{
 "cells": [
  {
   "cell_type": "code",
   "execution_count": 2,
   "metadata": {},
   "outputs": [],
   "source": [
    "import pandas as pd\n",
    "import numpy as np\n",
    "import matplotlib.pyplot as plt\n",
    "import tensorflow as tf\n",
    "import os\n",
    "os.chdir('C:/Users/Aadhi/ML Data sets/archive (1)')\n",
    "from sklearn.model_selection import train_test_split"
   ]
  },
  {
   "cell_type": "code",
   "execution_count": 3,
   "metadata": {},
   "outputs": [],
   "source": [
    "data=[]\n",
    "labels=[]\n",
    "classes = 43\n",
    "cur_path = os.getcwd()"
   ]
  },
  {
   "cell_type": "code",
   "execution_count": 4,
   "metadata": {},
   "outputs": [
    {
     "data": {
      "text/plain": [
       "'C:\\\\Users\\\\Aadhi\\\\ML Data sets\\\\archive (1)'"
      ]
     },
     "execution_count": 4,
     "metadata": {},
     "output_type": "execute_result"
    }
   ],
   "source": [
    "cur_path"
   ]
  },
  {
   "cell_type": "code",
   "execution_count": 5,
   "metadata": {},
   "outputs": [],
   "source": [
    "from PIL import Image\n",
    "for i in range(classes):\n",
    "    path = os.path.join(cur_path,'train',str(i))\n",
    "    images = os.listdir(path)\n",
    "    \n",
    "    for x in images:\n",
    "        try:\n",
    "            image = Image.open(path + '\\\\' + x)\n",
    "            image = image.resize((30,30))\n",
    "            image = np.asarray(image)\n",
    "            data.append(image)\n",
    "            labels.append(i)\n",
    "        except Exception as e:\n",
    "            print(e)"
   ]
  },
  {
   "cell_type": "code",
   "execution_count": 6,
   "metadata": {},
   "outputs": [],
   "source": [
    "data = np.array(data)\n",
    "labels = np.array(labels)"
   ]
  },
  {
   "cell_type": "code",
   "execution_count": null,
   "metadata": {},
   "outputs": [],
   "source": []
  },
  {
   "cell_type": "code",
   "execution_count": 7,
   "metadata": {},
   "outputs": [
    {
     "data": {
      "text/plain": [
       "(39209, 30, 30, 3)"
      ]
     },
     "execution_count": 7,
     "metadata": {},
     "output_type": "execute_result"
    }
   ],
   "source": [
    "data.shape"
   ]
  },
  {
   "cell_type": "code",
   "execution_count": 8,
   "metadata": {},
   "outputs": [
    {
     "data": {
      "text/plain": [
       "(39209,)"
      ]
     },
     "execution_count": 8,
     "metadata": {},
     "output_type": "execute_result"
    }
   ],
   "source": [
    "labels.shape"
   ]
  },
  {
   "cell_type": "code",
   "execution_count": 9,
   "metadata": {},
   "outputs": [],
   "source": [
    "x_train, x_test, y_train, y_test = train_test_split(data, labels, test_size = 0.2, random_state = 0)"
   ]
  },
  {
   "cell_type": "code",
   "execution_count": 10,
   "metadata": {},
   "outputs": [],
   "source": [
    "from keras.utils import to_categorical"
   ]
  },
  {
   "cell_type": "code",
   "execution_count": 11,
   "metadata": {},
   "outputs": [],
   "source": [
    "y_train = to_categorical(y_train, 43)\n",
    "y_test = to_categorical(y_test, 43)"
   ]
  },
  {
   "cell_type": "code",
   "execution_count": 12,
   "metadata": {},
   "outputs": [],
   "source": [
    "cnn = tf.keras.models.Sequential()"
   ]
  },
  {
   "cell_type": "code",
   "execution_count": 13,
   "metadata": {},
   "outputs": [],
   "source": [
    "cnn.add(tf.keras.layers.Conv2D(filters = 32, kernel_size = (5,5), activation = 'relu', input_shape = x_train.shape[1:]))"
   ]
  },
  {
   "cell_type": "code",
   "execution_count": 14,
   "metadata": {},
   "outputs": [],
   "source": [
    "cnn.add(tf.keras.layers.MaxPool2D(pool_size = 2, strides = 2))"
   ]
  },
  {
   "cell_type": "code",
   "execution_count": 15,
   "metadata": {},
   "outputs": [],
   "source": [
    "cnn.add(tf.keras.layers.Conv2D(filters = 32, kernel_size = (5,5), activation = 'relu'))\n",
    "cnn.add(tf.keras.layers.MaxPool2D(pool_size = 2, strides = 2))"
   ]
  },
  {
   "cell_type": "code",
   "execution_count": 16,
   "metadata": {},
   "outputs": [],
   "source": [
    "cnn.add(tf.keras.layers.Flatten())"
   ]
  },
  {
   "cell_type": "code",
   "execution_count": 17,
   "metadata": {},
   "outputs": [],
   "source": [
    "cnn.add(tf.keras.layers.Dense(units = 256, activation = 'relu'))"
   ]
  },
  {
   "cell_type": "code",
   "execution_count": 18,
   "metadata": {},
   "outputs": [],
   "source": [
    "cnn.add(tf.keras.layers.Dense(units = 43, activation = 'softmax'))"
   ]
  },
  {
   "cell_type": "code",
   "execution_count": 19,
   "metadata": {},
   "outputs": [],
   "source": [
    "cnn.compile(optimizer = 'adam', loss = 'categorical_crossentropy', metrics = ['accuracy'])"
   ]
  },
  {
   "cell_type": "code",
   "execution_count": 20,
   "metadata": {},
   "outputs": [
    {
     "name": "stdout",
     "output_type": "stream",
     "text": [
      "Epoch 1/25\n",
      "981/981 [==============================] - 129s 126ms/step - loss: 4.0733 - accuracy: 0.4076 - val_loss: 0.4444 - val_accuracy: 0.8823\n",
      "Epoch 2/25\n",
      "981/981 [==============================] - 152s 155ms/step - loss: 0.4081 - accuracy: 0.8961 - val_loss: 0.3788 - val_accuracy: 0.9148\n",
      "Epoch 3/25\n",
      "981/981 [==============================] - 137s 139ms/step - loss: 0.2213 - accuracy: 0.9420 - val_loss: 0.3437 - val_accuracy: 0.9206\n",
      "Epoch 4/25\n",
      "981/981 [==============================] - 136s 138ms/step - loss: 0.1847 - accuracy: 0.9527 - val_loss: 0.3621 - val_accuracy: 0.9300\n",
      "Epoch 5/25\n",
      "981/981 [==============================] - 123s 126ms/step - loss: 0.1630 - accuracy: 0.9620 - val_loss: 0.2998 - val_accuracy: 0.9431\n",
      "Epoch 6/25\n",
      "981/981 [==============================] - 98s 100ms/step - loss: 0.1550 - accuracy: 0.9623 - val_loss: 0.2375 - val_accuracy: 0.9550\n",
      "Epoch 7/25\n",
      "981/981 [==============================] - 114s 116ms/step - loss: 0.1209 - accuracy: 0.9716 - val_loss: 0.2993 - val_accuracy: 0.9512\n",
      "Epoch 8/25\n",
      "981/981 [==============================] - 123s 126ms/step - loss: 0.1333 - accuracy: 0.9705 - val_loss: 0.4358 - val_accuracy: 0.9334\n",
      "Epoch 9/25\n",
      "981/981 [==============================] - 100s 102ms/step - loss: 0.1335 - accuracy: 0.9695 - val_loss: 0.2507 - val_accuracy: 0.9654\n",
      "Epoch 10/25\n",
      "981/981 [==============================] - 99s 101ms/step - loss: 0.1098 - accuracy: 0.9752 - val_loss: 0.2587 - val_accuracy: 0.9634\n",
      "Epoch 11/25\n",
      "981/981 [==============================] - 100s 102ms/step - loss: 0.1027 - accuracy: 0.9782 - val_loss: 0.2704 - val_accuracy: 0.9654\n",
      "Epoch 12/25\n",
      "981/981 [==============================] - 162s 166ms/step - loss: 0.1261 - accuracy: 0.9760 - val_loss: 0.2830 - val_accuracy: 0.9617\n",
      "Epoch 13/25\n",
      "981/981 [==============================] - 125s 128ms/step - loss: 0.1363 - accuracy: 0.9730 - val_loss: 0.4443 - val_accuracy: 0.9510\n",
      "Epoch 14/25\n",
      "981/981 [==============================] - 117s 120ms/step - loss: 0.1132 - accuracy: 0.9776 - val_loss: 0.3993 - val_accuracy: 0.9496\n",
      "Epoch 15/25\n",
      "981/981 [==============================] - 118s 120ms/step - loss: 0.0911 - accuracy: 0.9797 - val_loss: 0.3240 - val_accuracy: 0.9651\n",
      "Epoch 16/25\n",
      "981/981 [==============================] - 113s 116ms/step - loss: 0.1325 - accuracy: 0.9786 - val_loss: 0.3606 - val_accuracy: 0.9665\n",
      "Epoch 17/25\n",
      "981/981 [==============================] - 112s 115ms/step - loss: 0.1174 - accuracy: 0.9803 - val_loss: 0.3372 - val_accuracy: 0.9661\n",
      "Epoch 18/25\n",
      "981/981 [==============================] - 113s 115ms/step - loss: 0.1545 - accuracy: 0.9748 - val_loss: 0.4076 - val_accuracy: 0.9637\n",
      "Epoch 19/25\n",
      "981/981 [==============================] - 115s 118ms/step - loss: 0.0997 - accuracy: 0.9822 - val_loss: 0.5305 - val_accuracy: 0.9561\n",
      "Epoch 20/25\n",
      "981/981 [==============================] - 113s 115ms/step - loss: 0.1288 - accuracy: 0.9797 - val_loss: 0.4335 - val_accuracy: 0.9615\n",
      "Epoch 21/25\n",
      "981/981 [==============================] - 106s 108ms/step - loss: 0.1473 - accuracy: 0.9782 - val_loss: 0.4566 - val_accuracy: 0.9610\n",
      "Epoch 22/25\n",
      "981/981 [==============================] - 100s 102ms/step - loss: 0.1124 - accuracy: 0.9840 - val_loss: 0.5179 - val_accuracy: 0.9658\n",
      "Epoch 23/25\n",
      "981/981 [==============================] - 98s 100ms/step - loss: 0.1059 - accuracy: 0.9872 - val_loss: 0.3762 - val_accuracy: 0.9727\n",
      "Epoch 24/25\n",
      "981/981 [==============================] - 105s 107ms/step - loss: 0.1017 - accuracy: 0.9846 - val_loss: 0.5911 - val_accuracy: 0.9611\n",
      "Epoch 25/25\n",
      "981/981 [==============================] - 100s 102ms/step - loss: 0.0905 - accuracy: 0.9861 - val_loss: 0.6135 - val_accuracy: 0.9667\n"
     ]
    }
   ],
   "source": [
    "temp = cnn.fit(x_train, y_train, epochs = 25, validation_data = (x_test, y_test))"
   ]
  },
  {
   "cell_type": "code",
   "execution_count": 24,
   "metadata": {},
   "outputs": [
    {
     "data": {
      "image/png": "[encoded data removed]",
      "text/plain": [
       "<Figure size 432x288 with 1 Axes>"
      ]
     },
     "metadata": {
      "needs_background": "light"
     },
     "output_type": "display_data"
    }
   ],
   "source": [
    "\n",
    "# accuracy \n",
    "plt.figure(0)\n",
    "plt.plot(temp.history['accuracy'], label='training accuracy')\n",
    "plt.plot(temp.history['val_accuracy'], label='val accuracy')\n",
    "plt.title('Accuracy')\n",
    "plt.xlabel('epochs')\n",
    "plt.ylabel('accuracy')\n",
    "plt.legend()\n",
    "plt.show()"
   ]
  },
  {
   "cell_type": "code",
   "execution_count": 25,
   "metadata": {},
   "outputs": [
    {
     "data": {
      "image/png": "[encoded data removed]",
      "text/plain": [
       "<Figure size 432x288 with 1 Axes>"
      ]
     },
     "metadata": {
      "needs_background": "light"
     },
     "output_type": "display_data"
    }
   ],
   "source": [
    "\n",
    "# Loss\n",
    "plt.plot(temp.history['loss'], label='training loss')\n",
    "plt.plot(temp.history['val_loss'], label='val loss')\n",
    "plt.title('Loss')\n",
    "plt.xlabel('epochs')\n",
    "plt.ylabel('loss')\n",
    "plt.legend()\n",
    "plt.show()"
   ]
  },
  {
   "cell_type": "code",
   "execution_count": 26,
   "metadata": {},
   "outputs": [],
   "source": [
    "def testing(testcsv):\n",
    "    y_test = pd.read_csv(testcsv)\n",
    "    label = y_test[\"ClassId\"].values\n",
    "    imgs = y_test[\"Path\"].values\n",
    "    data=[]\n",
    "    for img in imgs:\n",
    "        image = Image.open(img)\n",
    "        image = image.resize((30,30))\n",
    "        data.append(np.asarray(image))\n",
    "    x_test=np.array(data)\n",
    "    return x_test,label"
   ]
  },
  {
   "cell_type": "code",
   "execution_count": 28,
   "metadata": {},
   "outputs": [],
   "source": [
    "x_test, label = testing('Test.csv')"
   ]
  },
  {
   "cell_type": "code",
   "execution_count": 31,
   "metadata": {},
   "outputs": [
    {
     "data": {
      "text/plain": [
       "array([16,  1, 38, ..., 42,  7, 10], dtype=int64)"
      ]
     },
     "execution_count": 31,
     "metadata": {},
     "output_type": "execute_result"
    }
   ],
   "source": [
    "y_pred = np.argmax(cnn.predict(x_test), axis=-1)\n",
    "y_pred"
   ]
  },
  {
   "cell_type": "code",
   "execution_count": 33,
   "metadata": {},
   "outputs": [
    {
     "data": {
      "text/plain": [
       "0.9014251781472684"
      ]
     },
     "execution_count": 33,
     "metadata": {},
     "output_type": "execute_result"
    }
   ],
   "source": [
    "from sklearn.metrics import confusion_matrix, accuracy_score\n",
    "\n",
    "accuracy_score(label, y_pred)"
   ]
  },
  {
   "cell_type": "code",
   "execution_count": 34,
   "metadata": {},
   "outputs": [],
   "source": [
    "classes = { 0:'Speed limit (20km/h)',\n",
    "            1:'Speed limit (30km/h)', \n",
    "            2:'Speed limit (50km/h)', \n",
    "            3:'Speed limit (60km/h)', \n",
    "            4:'Speed limit (70km/h)', \n",
    "            5:'Speed limit (80km/h)', \n",
    "            6:'End of speed limit (80km/h)', \n",
    "            7:'Speed limit (100km/h)', \n",
    "            8:'Speed limit (120km/h)', \n",
    "            9:'No passing', \n",
    "            10:'No passing veh over 3.5 tons', \n",
    "            11:'Right-of-way at intersection', \n",
    "            12:'Priority road', \n",
    "            13:'Yield', \n",
    "            14:'Stop', \n",
    "            15:'No vehicles', \n",
    "            16:'Veh > 3.5 tons prohibited', \n",
    "            17:'No entry', \n",
    "            18:'General caution', \n",
    "            19:'Dangerous curve left', \n",
    "            20:'Dangerous curve right', \n",
    "            21:'Double curve', \n",
    "            22:'Bumpy road', \n",
    "            23:'Slippery road', \n",
    "            24:'Road narrows on the right', \n",
    "            25:'Road work', \n",
    "            26:'Traffic signals', \n",
    "            27:'Pedestrians', \n",
    "            28:'Children crossing', \n",
    "            29:'Bicycles crossing', \n",
    "            30:'Beware of ice/snow',\n",
    "            31:'Wild animals crossing', \n",
    "            32:'End speed + passing limits', \n",
    "            33:'Turn right ahead', \n",
    "            34:'Turn left ahead', \n",
    "            35:'Ahead only', \n",
    "            36:'Go straight or right', \n",
    "            37:'Go straight or left', \n",
    "            38:'Keep right', \n",
    "            39:'Keep left', \n",
    "            40:'Roundabout mandatory', \n",
    "            41:'End of no passing', \n",
    "            42:'End no passing veh > 3.5 tons' }"
   ]
  },
  {
   "cell_type": "code",
   "execution_count": 35,
   "metadata": {},
   "outputs": [],
   "source": [
    "def testing_img(img):\n",
    "    data = []\n",
    "    image = Image.open(img)\n",
    "    image = image.resize((30,30))\n",
    "    data.append(np.asarray(image))\n",
    "    x_test = np.asarray(data)\n",
    "    y_pred = np.argmax(cnn.predict(x_test), axis=-1)\n",
    "    return image,y_pred"
   ]
  },
  {
   "cell_type": "code",
   "execution_count": 36,
   "metadata": {},
   "outputs": [
    {
     "name": "stdout",
     "output_type": "stream",
     "text": [
      "The predicted traffic sign is Speed limit (30km/h)\n"
     ]
    },
    {
     "data": {
      "image/png": "[encoded data removed]",
      "text/plain": [
       "<Figure size 432x288 with 1 Axes>"
      ]
     },
     "metadata": {
      "needs_background": "light"
     },
     "output_type": "display_data"
    }
   ],
   "source": [
    "plot, prediction = testing_img(r'C:\\Users\\Aadhi\\ML Data sets\\archive (1)\\Test\\00024.png')\n",
    "s = [str(i) for i in prediction]\n",
    "a = int(\"\".join(s))\n",
    "print(\"The predicted traffic sign is \" + classes[a])\n",
    "plt.imshow(plot)\n",
    "plt.show()"
   ]
  },
  {
   "cell_type": "code",
   "execution_count": 37,
   "metadata": {},
   "outputs": [
    {
     "name": "stdout",
     "output_type": "stream",
     "text": [
      "The predicted traffic sign is Dangerous curve right\n"
     ]
    },
    {
     "data": {
      "image/png": "[encoded data removed]",
      "text/plain": [
       "<Figure size 432x288 with 1 Axes>"
      ]
     },
     "metadata": {
      "needs_background": "light"
     },
     "output_type": "display_data"
    }
   ],
   "source": [
    "plot, prediction = testing_img(r'C:\\Users\\Aadhi\\ML Data sets\\archive (1)\\Test\\00017.png')\n",
    "s = [str(i) for i in prediction]\n",
    "a = int(\"\".join(s))\n",
    "print(\"The predicted traffic sign is \" + classes[a])\n",
    "plt.imshow(plot)\n",
    "plt.show()"
   ]
  },
  {
   "cell_type": "code",
   "execution_count": null,
   "metadata": {},
   "outputs": [],
   "source": []
  }
 ],
 "metadata": {
  "kernelspec": {
   "display_name": "Python 3",
   "language": "python",
   "name": "python3"
  },
  "language_info": {
   "codemirror_mode": {
    "name": "ipython",
    "version": 3
   },
   "file_extension": ".py",
   "mimetype": "text/x-python",
   "name": "python",
   "nbconvert_exporter": "python",
   "pygments_lexer": "ipython3",
   "version": "3.7.6"
  }
 },
 "nbformat": 4,
 "nbformat_minor": 4
}
